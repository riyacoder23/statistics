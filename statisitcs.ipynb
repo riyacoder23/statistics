{
  "nbformat": 4,
  "nbformat_minor": 0,
  "metadata": {
    "colab": {
      "provenance": [],
      "authorship_tag": "ABX9TyOV/tqav6XHp7Lr70qXMoq6",
      "include_colab_link": true
    },
    "kernelspec": {
      "name": "python3",
      "display_name": "Python 3"
    },
    "language_info": {
      "name": "python"
    }
  },
  "cells": [
    {
      "cell_type": "markdown",
      "metadata": {
        "id": "view-in-github",
        "colab_type": "text"
      },
      "source": [
        "<a href=\"https://colab.research.google.com/github/riyacoder23/statistics/blob/main/statisitcs.ipynb\" target=\"_parent\"><img src=\"https://colab.research.google.com/assets/colab-badge.svg\" alt=\"Open In Colab\"/></a>"
      ]
    },
    {
      "cell_type": "markdown",
      "source": [
        "Q1. What is Statistics?"
      ],
      "metadata": {
        "id": "IDGqG4gn2hMb"
      }
    },
    {
      "cell_type": "markdown",
      "source": [
        "Ans1.Statistics is the science of the collecting,organizing and analyzing of data."
      ],
      "metadata": {
        "id": "82A2mt1Y5wUj"
      }
    },
    {
      "cell_type": "markdown",
      "source": [
        "Q2. Define the different types of statistics and give an example of when each type might be used."
      ],
      "metadata": {
        "id": "jAR-qbz-7eQa"
      }
    },
    {
      "cell_type": "markdown",
      "source": [
        "Ans2. there are two types of statistics:\n",
        "a. Descriptive Statistics=it consist of recongizing and summarizing of data.\n",
        "                           example=probability density function, histogram, boxplot,barchart,pie chart.\n",
        "b. Inferntial Statistics = it consist of using that using data that you have\n",
        "   measured to form conclusions .\n",
        "   example= hypothesis testing, z-test, t-test, chi square test.\n"
      ],
      "metadata": {
        "id": "UaQLTMlb7goE"
      }
    },
    {
      "cell_type": "markdown",
      "source": [
        "Q3. What are the different types of data and how do they differ from each other? Provide an example of\n",
        "each type of data."
      ],
      "metadata": {
        "id": "jEvQrhrv-KWX"
      }
    },
    {
      "cell_type": "markdown",
      "source": [
        "Ans 3. There are 2 types of Data\n",
        "a. Quantitative Data= Quantitative Data contains data which can be measured numerically or information that can be expressed in form of numerical  values . it can be  further categorized into discrete data or continuous data.\n",
        "1.Discrete data contains whole numbers for example , number of bank accounts of person is an example of discrete data.\n",
        "2.Continuous Data can contain any value for example , temperature of a city or height of students in a class.\n",
        "b. Qualitative data = Qualitative data contains which cannot be measured numerically . it can be further be categorized into further categories  which can  be nominal,oridnal data .\n",
        "1. Nominal Data contains Categorical Values and order does not matter here for example , Gender which can be male or female.\n",
        "2. Ordinal data where ranking is important and order matters in this data for example,good ,better and best.\n"
      ],
      "metadata": {
        "id": "f4MKzpVS-L47"
      }
    },
    {
      "cell_type": "markdown",
      "source": [
        "Q4. Categorise the following datasets with respect to quantitative and qualitative data types:\n",
        "(i) Grading in exam: A+, A, B+, B, C+, C, D, E\n",
        "(ii) Colour of mangoes: yellow, green, orange, red\n",
        "(iii) Height data of a class: [178.9, 179, 179.5, 176, 177.2, 178.3, 175.8,...]\n",
        "(iv) Number of mangoes exported by a farm: [500, 600, 478, 672, ...]"
      ],
      "metadata": {
        "id": "0VjMi5DVG5Y5"
      }
    },
    {
      "cell_type": "markdown",
      "source": [
        "ANS 4.(i) Grading in exam: A+, A, B+, B, C+, C, D, E = it is qualtative data.\n",
        "      (ii) Colour of mangoes: yellow, green, orange, red = it is qualtative\n",
        "           data.\n",
        "      (iii) Height data of a class: [178.9, 179, 179.5, 176, 177.2, 178.3, 175.8,...]= it is quantatitive data.\n",
        "      iv) Number of mangoes exported by a farm: [500, 600, 478, 672, ...]= it is  quantative data.\n"
      ],
      "metadata": {
        "id": "HiLQFQDNHSAR"
      }
    },
    {
      "cell_type": "markdown",
      "source": [
        "Q5. Explain the concept of levels of measurement and give an example of a variable for each level.\n"
      ],
      "metadata": {
        "id": "eRo6Qj4KIAXB"
      }
    },
    {
      "cell_type": "markdown",
      "source": [
        "Ans 5. The concept of levels of mesurement refers to the various ways in which data can be categorized and measured . there are 4 levels of measurement of data.\n",
        "1. Nominal data = Nominal data contains categorical data and order of the data does not matter in this level. for example, Gender of a person which can be male and female and does not have anu order.\n",
        "2. Ordinal  data = Ordinal data also contains categorical but order of the data plays a very important role in this . difference cannot be measured here . for example good ,  beeter and best is a very good example  of  ordinal data.\n",
        "3. Interval Scale Data = In the interval scale data the order matters. Differences between the  data  can be measured here . Ratio cannot be measured here and does not have a true starting point  . for example, the temperature of a room in different times of the data is a very good exampl of interval scale  data.\n",
        "4. Ratio Scale Data = Order of does matter in ratio scale data. differences are also measurable  here including the ratio of the data and also have a 0 starting point. For example , Students marks in a class 90,60,70,75 etc."
      ],
      "metadata": {
        "id": "8wYgXcTbIMkA"
      }
    },
    {
      "cell_type": "markdown",
      "source": [
        "Q6. Why is it important to understand the level of measurement when analyzing data? Provide an\n",
        "example to illustrate your answer."
      ],
      "metadata": {
        "id": "vRRebTgwMolM"
      }
    },
    {
      "cell_type": "markdown",
      "source": [
        "  Ans 6. it is important to undderstand the level of measurement when analyzing the data because it determines the  statistical analysis to be performmed on the data in the correct mannner  incorrect statistical analysis may lead to misinterpretion of the data. for example if we take the example of temperature of differnt cities over a the correct level of measurement that can be applied is ratio interval data."
      ],
      "metadata": {
        "id": "flxTpMaWMq9k"
      }
    },
    {
      "cell_type": "markdown",
      "source": [
        "Q7. How nominal data type is different from ordinal data type."
      ],
      "metadata": {
        "id": "DUEn6_yTzb3N"
      }
    },
    {
      "cell_type": "markdown",
      "source": [
        "Ans 7. Nominal data is different from ordinal data in different ways some of them are:\n",
        "1. In Nominal level of measurement the order of the data does not matter.\n",
        "2. Nominal Data is used for labelling and no arthemetic operations can be performed on it.\n",
        "3. example of nominal data is the eye color of which can be black,blue,green nd example of ordinal data is education level of diffferent people\n",
        "\n"
      ],
      "metadata": {
        "id": "Vb2FW24_zdDg"
      }
    },
    {
      "cell_type": "markdown",
      "source": [
        "Q8. Which type of plot can be used to display data in terms of range?"
      ],
      "metadata": {
        "id": "2KUpDfUY0mVN"
      }
    },
    {
      "cell_type": "markdown",
      "source": [
        "Ans 8. The plot which can be used to display the data in terms of range is boxplot also known as (box and whisker plot).it can be used to give the graphical summary of the data such as minimum(25th percentile) median (50th percentile) and third quartile(75th percentile) and the maximum."
      ],
      "metadata": {
        "id": "FHA4Mecr0uvQ"
      }
    },
    {
      "cell_type": "markdown",
      "source": [
        "Q9. Describe the difference between descriptive and inferential statistics. Give an example of each\n",
        "type of statistics and explain how they are used."
      ],
      "metadata": {
        "id": "gojvXAPt12w6"
      }
    },
    {
      "cell_type": "markdown",
      "source": [
        "Ans9.Descriptive Statistics=it consist of recongizing and summarizing of data. example=probability density function, histogram, boxplot,barchart,pie chart. b. Inferntial Statistics = it consist of using that using data that you have measured to form conclusions . example= hypothesis testing, z-test, t-test, chi square test."
      ],
      "metadata": {
        "id": "hioExgLb169V"
      }
    },
    {
      "cell_type": "markdown",
      "source": [
        "Q10. What are some common measures of central tendency and variability used in statistics? Explain\n",
        "how each measure can be used to describe a dataset."
      ],
      "metadata": {
        "id": "XbtjzZLX2Usa"
      }
    },
    {
      "cell_type": "markdown",
      "source": [
        "Ans 10. Some of the measures of measures of the central tendency of used in the statistics are:\n",
        "1.Mean= Mean is calculated by taking the sum of the  all  the data points  the dataset and dividing it by the total number of the datapoints available   present in the dataset.it is sensitive to extreme values and gives a balanced description of the data.\n",
        "2. Median = Median is the middle value present in the data and is arranged in descending or ascending order .it is less affected by extreme values and provides a centeral value for skewed disstribution.\n",
        "3. Mode= The mode is the value that appears frequently in the dataset.it's useful for categorical data and discrete distributions may not exist to be unique.\n",
        "Variability describes the spread ,dispersion or the variabilty of the datset.they help to understand how much the data deviates from the central tendency. some of the mmethods to meaasure the variabilty are\n",
        "1. Range:  Range is the diffrence of the minimum and the maximum values present in the data. it gives the basic idea of the dataset.\n",
        "2. Variance : Variance is the squared differences between data point and the variance.it determines how the individual data vary from the mean.\n",
        "3. Standard Deviation: Standard Deviation is the the square root of the variance . It provides a measure of the average deviation of data points from the mean. It's in the same units as the data and is widely used due to its interpretability.\n",
        "\n",
        "Measures of the central tendency gives the how much bulk of the data is centered at the center and measures of the variabiltiy gives the how much is spread out from the center."
      ],
      "metadata": {
        "id": "J9nCTiaE2Z6w"
      }
    },
    {
      "cell_type": "code",
      "source": [],
      "metadata": {
        "id": "xk_njJEWG1m5"
      },
      "execution_count": null,
      "outputs": []
    },
    {
      "cell_type": "code",
      "source": [],
      "metadata": {
        "id": "tbRTiSH27lNn"
      },
      "execution_count": null,
      "outputs": []
    },
    {
      "cell_type": "code",
      "source": [],
      "metadata": {
        "id": "e4FQpHG9yKKa"
      },
      "execution_count": null,
      "outputs": []
    },
    {
      "cell_type": "code",
      "execution_count": null,
      "metadata": {
        "id": "v0FAKmdS0n22"
      },
      "outputs": [],
      "source": []
    }
  ]
}